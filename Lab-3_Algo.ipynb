{
 "cells": [
  {
   "cell_type": "code",
   "execution_count": 1,
   "metadata": {},
   "outputs": [],
   "source": [
    "import random as r\n",
    "def rand():\n",
    "    while(True):\n",
    "        q=r.randint(-1,1)\n",
    "        if(q!=0):\n",
    "            break\n",
    "    return q"
   ]
  },
  {
   "cell_type": "code",
   "execution_count": 2,
   "metadata": {},
   "outputs": [],
   "source": [
    "#     //divide and conquer\n",
    "#     int mid = size / 2;\n",
    "#     int lsum = anArray [mid] + sumArray(anArray, --mid);\n",
    "#     int rsize = size - mid;\n",
    "#     int rsum = anArray[size - mid] + sumArray(anArray + mid, --rsize);\n",
    "#     return lsum + rsum;"
   ]
  },
  {
   "cell_type": "code",
   "execution_count": 12,
   "metadata": {},
   "outputs": [
    {
     "name": "stdout",
     "output_type": "stream",
     "text": [
      "Enter the numbers of robots = 5\n",
      "[0, -1, 1, -1, -1]\n",
      "[1, 0, 1, 1, 1]\n",
      "[-1, -1, 0, 1, 1]\n",
      "[1, 1, 1, 0, 1]\n",
      "[1, -1, 1, 1, 0]\n"
     ]
    }
   ],
   "source": [
    "n=int(input(\"Enter the numbers of robots = \"))\n",
    "while(True):\n",
    "    arr=[]\n",
    "    for i in range(n):\n",
    "        arr.append([])\n",
    "        for j in range(n):\n",
    "            if(i==j):\n",
    "                arr[i].append(0)\n",
    "            else:\n",
    "                arr[i].append(rand())\n",
    "    brim=int(((n*n)-n)/2)\n",
    "    pos=0\n",
    "    for i in range(n):\n",
    "        for j in range(n):\n",
    "            if(arr[i][j]==1):\n",
    "                pos=pos+1\n",
    "    if(pos>brim):\n",
    "        break\n",
    "for i in arr:\n",
    "    print(i)"
   ]
  },
  {
   "cell_type": "code",
   "execution_count": 13,
   "metadata": {},
   "outputs": [
    {
     "name": "stdout",
     "output_type": "stream",
     "text": [
      "[-1, 1, -1, 1, 1]\n"
     ]
    }
   ],
   "source": [
    "res=[]\n",
    "for i in arr:\n",
    "    num=0\n",
    "    for j in i:\n",
    "        if(j==1):\n",
    "            num=num+1\n",
    "    if(num>int(len(i)/2)):\n",
    "        res.append(1)\n",
    "    else:\n",
    "        res.append(-1)\n",
    "print(res)"
   ]
  },
  {
   "cell_type": "code",
   "execution_count": 14,
   "metadata": {},
   "outputs": [
    {
     "name": "stdout",
     "output_type": "stream",
     "text": [
      "[1, -1, 1, -1, -1]\n"
     ]
    }
   ],
   "source": [
    "flag=0\n",
    "for i in arr:\n",
    "    if(sum_array(i,0,0)>0):\n",
    "        flag=j\n",
    "        break\n",
    "res=arr[flag]\n",
    "for i in range(len(res)):\n",
    "    if(res[i]==0):\n",
    "        res[i]=1\n",
    "print(res)"
   ]
  },
  {
   "cell_type": "code",
   "execution_count": 7,
   "metadata": {},
   "outputs": [],
   "source": [
    "def sum_array(arr,l_sum,r_sum):\n",
    "    mid=int(len(arr)/2)\n",
    "    if(len(arr)==0):\n",
    "        return 0\n",
    "    elif(len(arr)==1):\n",
    "        return arr[0]\n",
    "    else:\n",
    "        l_sum=l_sum+sum_array(arr[0:mid],l_sum,r_sum)\n",
    "        r_sum=r_sum+sum_array(arr[mid+1:],l_sum,r_sum)\n",
    "        return (l_sum+r_sum)"
   ]
  },
  {
   "cell_type": "code",
   "execution_count": null,
   "metadata": {},
   "outputs": [],
   "source": []
  },
  {
   "cell_type": "code",
   "execution_count": null,
   "metadata": {},
   "outputs": [],
   "source": []
  },
  {
   "cell_type": "markdown",
   "metadata": {},
   "source": [
    "# Lab 2"
   ]
  },
  {
   "cell_type": "code",
   "execution_count": 7,
   "metadata": {},
   "outputs": [
    {
     "name": "stdout",
     "output_type": "stream",
     "text": [
      "2140\n"
     ]
    }
   ],
   "source": [
    "def mid(arr, l, m, r) : \n",
    "    #print(\"Middle\",l,r,sum(arr[l:r]))\n",
    "    \n",
    "    sno = 0; ls = -10000\n",
    "    for i in range(m, l-1, -1) : \n",
    "        sno = sno + arr[i]           \n",
    "        if (sno > ls) : \n",
    "            ls = sno \n",
    "    sno = 0; rs = -1000\n",
    "    for i in range(m + 1, r + 1) : \n",
    "        sno = sno + arr[i] \n",
    "        if (sno > rs) : \n",
    "            rs = sno \n",
    "    return (ls+rs); \n",
    " \n",
    "def maxno(arr, l, r) : \n",
    "    if (l == r) : \n",
    "        return arr[l] \n",
    "    m = (l + r) // 2\n",
    "    #print(l,m,sum(arr[l:m]))\n",
    "    return max(maxno(arr, l, m), \n",
    "               maxno(arr, m+1, r), \n",
    "               mid(arr, l, m, r) ,sum(arr[l:m]))\n",
    "arr = [80,1000,110,90,65,70,75,90,80,70,100,80,65,60,55,50] \n",
    "n = len(arr)\n",
    "maxs = maxno(arr, 0, n-1) \n",
    "print(maxs) "
   ]
  },
  {
   "cell_type": "code",
   "execution_count": null,
   "metadata": {},
   "outputs": [],
   "source": []
  }
 ],
 "metadata": {
  "kernelspec": {
   "display_name": "Python 3",
   "language": "python",
   "name": "python3"
  },
  "language_info": {
   "codemirror_mode": {
    "name": "ipython",
    "version": 3
   },
   "file_extension": ".py",
   "mimetype": "text/x-python",
   "name": "python",
   "nbconvert_exporter": "python",
   "pygments_lexer": "ipython3",
   "version": "3.6.5"
  }
 },
 "nbformat": 4,
 "nbformat_minor": 2
}
